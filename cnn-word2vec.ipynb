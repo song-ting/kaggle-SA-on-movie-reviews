{
 "cells": [
  {
   "cell_type": "code",
   "execution_count": 1,
   "metadata": {},
   "outputs": [
    {
     "name": "stderr",
     "output_type": "stream",
     "text": [
      "/home/ub/miniconda3/lib/python3.6/site-packages/h5py/__init__.py:36: FutureWarning: Conversion of the second argument of issubdtype from `float` to `np.floating` is deprecated. In future, it will be treated as `np.float64 == np.dtype(float).type`.\n",
      "  from ._conv import register_converters as _register_converters\n",
      "Using TensorFlow backend.\n",
      "/home/ub/miniconda3/lib/python3.6/importlib/_bootstrap.py:219: RuntimeWarning: compiletime version 3.5 of module 'tensorflow.python.framework.fast_tensor_util' does not match runtime version 3.6\n",
      "  return f(*args, **kwds)\n"
     ]
    }
   ],
   "source": [
    "import pandas as pd\n",
    "\n",
    "from keras.preprocessing.text import Tokenizer\n",
    "from keras.preprocessing.sequence import pad_sequences\n",
    "from keras.utils import to_categorical\n",
    "import numpy as np\n",
    "\n",
    "from gensim.models import KeyedVectors\n",
    "from keras.models import Sequential\n",
    "from keras.layers import Embedding, Conv1D, MaxPool1D, Dense, Flatten"
   ]
  },
  {
   "cell_type": "code",
   "execution_count": 2,
   "metadata": {},
   "outputs": [],
   "source": [
    "def load_training_data():\n",
    "    data_df = pd.read_csv('train.tsv', sep='\\t')\n",
    "    x = data_df['Phrase'].values\n",
    "    y = data_df['Sentiment'].values\n",
    "    print('training data\\'s len:', x.shape[0])\n",
    "    return x, y"
   ]
  },
  {
   "cell_type": "code",
   "execution_count": 3,
   "metadata": {},
   "outputs": [],
   "source": [
    "def load_testing_data():\n",
    "    data_df = pd.read_csv('test.tsv', sep='\\t')\n",
    "    print('testing data\\'s len:', len(data_df))\n",
    "    return data_df"
   ]
  },
  {
   "cell_type": "code",
   "execution_count": 4,
   "metadata": {},
   "outputs": [
    {
     "name": "stdout",
     "output_type": "stream",
     "text": [
      "training data's len: 156060\n"
     ]
    }
   ],
   "source": [
    "x_train, y_train = load_training_data()"
   ]
  },
  {
   "cell_type": "code",
   "execution_count": 5,
   "metadata": {},
   "outputs": [
    {
     "name": "stdout",
     "output_type": "stream",
     "text": [
      "testing data's len: 66292\n"
     ]
    }
   ],
   "source": [
    "test_df = load_testing_data()\n",
    "x_test = test_df.Phrase.values"
   ]
  },
  {
   "cell_type": "code",
   "execution_count": 6,
   "metadata": {},
   "outputs": [],
   "source": [
    "tokenizer = Tokenizer()"
   ]
  },
  {
   "cell_type": "code",
   "execution_count": 7,
   "metadata": {},
   "outputs": [],
   "source": [
    "tokenizer.fit_on_texts(list(x_train) + list(x_test))"
   ]
  },
  {
   "cell_type": "code",
   "execution_count": 8,
   "metadata": {},
   "outputs": [],
   "source": [
    "x_train_seqs = tokenizer.texts_to_sequences(list(x_train))"
   ]
  },
  {
   "cell_type": "code",
   "execution_count": 9,
   "metadata": {},
   "outputs": [],
   "source": [
    "word2idx = tokenizer.word_index"
   ]
  },
  {
   "cell_type": "code",
   "execution_count": 10,
   "metadata": {},
   "outputs": [],
   "source": [
    "x_train_paded = pad_sequences(x_train_seqs, maxlen=52)"
   ]
  },
  {
   "cell_type": "code",
   "execution_count": 11,
   "metadata": {},
   "outputs": [],
   "source": [
    "y_train_onehot = to_categorical(y_train)"
   ]
  },
  {
   "cell_type": "code",
   "execution_count": 12,
   "metadata": {},
   "outputs": [],
   "source": [
    "def shuffle(x, y):\n",
    "    indices = np.arange(x.shape[0])\n",
    "    np.random.shuffle(indices)\n",
    "    return x[indices], y[indices]"
   ]
  },
  {
   "cell_type": "code",
   "execution_count": 13,
   "metadata": {},
   "outputs": [],
   "source": [
    "x_train_shuffled, y_train_shuffled = shuffle(x_train_paded, \n",
    "                                             y_train_onehot)"
   ]
  },
  {
   "cell_type": "code",
   "execution_count": 14,
   "metadata": {},
   "outputs": [],
   "source": [
    "wv = KeyedVectors.load_word2vec_format('word2vec.6B.100d.txt')"
   ]
  },
  {
   "cell_type": "code",
   "execution_count": 15,
   "metadata": {},
   "outputs": [],
   "source": [
    "embeddings = np.zeros((len(word2idx) + 1, 100))"
   ]
  },
  {
   "cell_type": "code",
   "execution_count": 16,
   "metadata": {},
   "outputs": [],
   "source": [
    "for word, idx in word2idx.items():\n",
    "    if word in wv.vocab:\n",
    "        embeddings[idx] = wv.get_vector(word)"
   ]
  },
  {
   "cell_type": "code",
   "execution_count": 21,
   "metadata": {},
   "outputs": [],
   "source": [
    "cnn_model = Sequential()\n",
    "\n",
    "# (batch_size, seq_len)->(batch_size, steps, embedding_dim)\n",
    "cnn_model.add(Embedding(embeddings.shape[0], \n",
    "                        embeddings.shape[1], \n",
    "                        weights=[embeddings], \n",
    "                        trainable=False, input_length=52))\n",
    "\n",
    "# (batch_size, steps, embedding_dim)->(batch_size, new_steps, filters)\n",
    "cnn_model.add(Conv1D(64, 5, activation='relu'))\n",
    "\n",
    "# (batch_size, new_steps, filters)->(batch_size, downsampled_steps, filters)\n",
    "cnn_model.add(MaxPool1D(2, strides=2))\n",
    "\n",
    "# (batch_size, downsampled_steps, filters)->(batch_size, downsampled_steps*filters)\n",
    "cnn_model.add(Flatten())\n",
    "\n",
    "# batch_size, downsampled_steps*filters)->batch_size, 25)\n",
    "# cnn_model.add(Dense(25, activation='relu'))\n",
    "\n",
    "cnn_model.add(Dense(5, activation='softmax'))"
   ]
  },
  {
   "cell_type": "code",
   "execution_count": 22,
   "metadata": {},
   "outputs": [],
   "source": [
    "cnn_model.compile(loss='categorical_crossentropy', optimizer='adam', \n",
    "                  metrics=['accuracy'])"
   ]
  },
  {
   "cell_type": "code",
   "execution_count": 23,
   "metadata": {},
   "outputs": [
    {
     "name": "stdout",
     "output_type": "stream",
     "text": [
      "Epoch 1/15\n",
      "156060/156060 [==============================] - 77s 491us/step - loss: 1.0638 - acc: 0.5699\n",
      "Epoch 2/15\n",
      "156060/156060 [==============================] - 74s 474us/step - loss: 0.9290 - acc: 0.6175\n",
      "Epoch 3/15\n",
      "156060/156060 [==============================] - 74s 473us/step - loss: 0.8868 - acc: 0.6354\n",
      "Epoch 4/15\n",
      "156060/156060 [==============================] - 85s 542us/step - loss: 0.8547 - acc: 0.6511\n",
      "Epoch 5/15\n",
      "156060/156060 [==============================] - 84s 535us/step - loss: 0.8296 - acc: 0.6617\n",
      "Epoch 6/15\n",
      "156060/156060 [==============================] - 82s 528us/step - loss: 0.8098 - acc: 0.6696\n",
      "Epoch 7/15\n",
      "156060/156060 [==============================] - 80s 513us/step - loss: 0.7936 - acc: 0.6767\n",
      "Epoch 8/15\n",
      "156060/156060 [==============================] - 73s 469us/step - loss: 0.7797 - acc: 0.6814\n",
      "Epoch 9/15\n",
      "156060/156060 [==============================] - 74s 474us/step - loss: 0.7677 - acc: 0.6873\n",
      "Epoch 10/15\n",
      "156060/156060 [==============================] - 71s 455us/step - loss: 0.7582 - acc: 0.6907\n",
      "Epoch 11/15\n",
      "156060/156060 [==============================] - 71s 458us/step - loss: 0.7504 - acc: 0.6936\n",
      "Epoch 12/15\n",
      "156060/156060 [==============================] - 73s 467us/step - loss: 0.7438 - acc: 0.6969\n",
      "Epoch 13/15\n",
      "156060/156060 [==============================] - 72s 460us/step - loss: 0.7362 - acc: 0.7003\n",
      "Epoch 14/15\n",
      "156060/156060 [==============================] - 72s 463us/step - loss: 0.7305 - acc: 0.7018\n",
      "Epoch 15/15\n",
      "156060/156060 [==============================] - 72s 461us/step - loss: 0.7254 - acc: 0.7045\n"
     ]
    },
    {
     "data": {
      "text/plain": [
       "<keras.callbacks.History at 0x7f4ba21fbb00>"
      ]
     },
     "execution_count": 23,
     "metadata": {},
     "output_type": "execute_result"
    }
   ],
   "source": [
    "cnn_model.fit(x_train_shuffled, y_train_shuffled, batch_size=256, \n",
    "              epochs=15, verbose=1)"
   ]
  },
  {
   "cell_type": "code",
   "execution_count": 24,
   "metadata": {},
   "outputs": [
    {
     "name": "stdout",
     "output_type": "stream",
     "text": [
      "66292/66292 [==============================] - 21s 318us/step\n"
     ]
    }
   ],
   "source": [
    "x_test_seqs = tokenizer.texts_to_sequences(list(x_test))\n",
    "x_test_paded = pad_sequences(x_test_seqs, maxlen=52)\n",
    "test_pred = cnn_model.predict_classes(x_test_paded)\n",
    "test_df['Sentiment'] = test_pred.reshape(-1, 1)\n",
    "test_df.to_csv('cnn-word2vec.csv', columns=['PhraseId', 'Sentiment'], \n",
    "               index=False, header=True)"
   ]
  },
  {
   "cell_type": "code",
   "execution_count": null,
   "metadata": {},
   "outputs": [],
   "source": []
  }
 ],
 "metadata": {
  "kernelspec": {
   "display_name": "Python 3",
   "language": "python",
   "name": "python3"
  },
  "language_info": {
   "codemirror_mode": {
    "name": "ipython",
    "version": 3
   },
   "file_extension": ".py",
   "mimetype": "text/x-python",
   "name": "python",
   "nbconvert_exporter": "python",
   "pygments_lexer": "ipython3",
   "version": "3.6.3"
  }
 },
 "nbformat": 4,
 "nbformat_minor": 2
}
